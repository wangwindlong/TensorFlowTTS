{
 "cells": [
  {
   "cell_type": "markdown",
   "metadata": {
    "colab_type": "text",
    "id": "sSxhJVHSDGGc"
   },
   "source": [
    "##### Copyright 2020 The TensorFlow Authors. All Rights Reserved.\n",
    "\n",
    "Licensed under the Apache License, Version 2.0 (the \"License\");"
   ]
  },
  {
   "cell_type": "code",
   "execution_count": null,
   "metadata": {
    "colab": {},
    "colab_type": "code",
    "id": "Q0ySjtvCD6nJ"
   },
   "outputs": [],
   "source": [
    "#@title Licensed under the Apache License, Version 2.0 (the \"License\"); { display-mode: \"form\" }\n",
    "# you may not use this file except in compliance with the License.\n",
    "# You may obtain a copy of the License at\n",
    "#\n",
    "# https://www.apache.org/licenses/LICENSE-2.0\n",
    "#\n",
    "# Unless required by applicable law or agreed to in writing, software\n",
    "# distributed under the License is distributed on an \"AS IS\" BASIS,\n",
    "# WITHOUT WARRANTIES OR CONDITIONS OF ANY KIND, either express or implied.\n",
    "# See the License for the specific language governing permissions and\n",
    "# limitations under the License."
   ]
  },
  {
   "cell_type": "markdown",
   "metadata": {
    "colab_type": "text",
    "id": "Do75nZO17R_g"
   },
   "source": [
    "\n",
    "\n",
    "Authors : [jaeyoo@](https://github.com/jaeyoo), [khanhlvg@](https://github.com/khanhlvg), [abattery@](https://github.com/abattery), [thaink@](https://github.com/thaink) (Google Research)\n",
    "\n",
    "Created : 2020-07-03 KST\n",
    "\n",
    "Last updated : 2020-07-04 KST\n",
    "\n",
    "-----\n",
    "Change logs\n",
    "* 2020-07-04 KST : Update notebook with the latest repo.\n",
    " * https://github.com/TensorSpeech/TensorflowTTS/pull/84 merged.\n",
    "* 2020-07-03 KST : First implementation (outputs : `fastspeech_quant.tflite`)\n",
    " * varied-length input tensor, varied-length output tensor\n",
    " * Inference on tflite works well.\n",
    "\n",
    "-----\n",
    "\n",
    "**Status** : successfully converted (`fastspeech_quant.tflite`)\n",
    "\n",
    "**Disclaimer** \n",
    "- This colab doesn't care about the latency, so it compressed the model with quantization. (112 MB -> 28 MB)\n",
    "- The TFLite file doesn't have LJSpeechProcessor. So you need to run it before feeding input vectors.\n",
    "- `tf-nightly>=2.4.0-dev20200630`\n"
   ]
  },
  {
   "cell_type": "markdown",
   "metadata": {
    "colab_type": "text",
    "id": "p5aF0cRBv57s"
   },
   "source": [
    "# Generate voice with FastSpeech"
   ]
  },
  {
   "cell_type": "code",
   "execution_count": null,
   "metadata": {
    "colab": {
     "base_uri": "https://localhost:8080/",
     "height": 832
    },
    "colab_type": "code",
    "id": "3kDDtdfy-Fcf",
    "outputId": "861ca9b0-facc-44a4-dfb3-c2a745e59e49"
   },
   "outputs": [],
   "source": [
    "# !pip install tf-nightly"
   ]
  },
  {
   "cell_type": "code",
   "execution_count": 1,
   "metadata": {
    "colab": {
     "base_uri": "https://localhost:8080/",
     "height": 124
    },
    "colab_type": "code",
    "id": "EHHcYEUyon5W",
    "outputId": "66f1296c-2484-4d13-b745-78c74b16c70e"
   },
   "outputs": [
    {
     "name": "stderr",
     "output_type": "stream",
     "text": [
      "/home/lap13548/anaconda3/envs/tflite/lib/python3.7/site-packages/tensorflow_addons/utils/ensure_tf_install.py:44: UserWarning: You are currently using a nightly version of TensorFlow (2.4.0-dev20200708). \n",
      "TensorFlow Addons offers no support for the nightly versions of TensorFlow. Some things might work, some other might not. \n",
      "If you encounter a bug, do not file an issue on GitHub.\n",
      "  UserWarning,\n"
     ]
    },
    {
     "name": "stdout",
     "output_type": "stream",
     "text": [
      "2.4.0-dev20200708\n"
     ]
    }
   ],
   "source": [
    "import numpy as np\n",
    "import soundfile as sf\n",
    "import yaml\n",
    "import tensorflow as tf\n",
    "\n",
    "from tensorflow_tts.processor import LJSpeechProcessor\n",
    "from tensorflow_tts.processor.ljspeech import symbols, _symbol_to_id\n",
    "\n",
    "from tensorflow_tts.configs import FastSpeechConfig, FastSpeech2Config\n",
    "from tensorflow_tts.configs import MelGANGeneratorConfig\n",
    "\n",
    "from tensorflow_tts.models import TFFastSpeech, TFFastSpeech2\n",
    "from tensorflow_tts.models import TFMelGANGenerator\n",
    "\n",
    "from IPython.display import Audio\n",
    "print(tf.__version__) # check if >= 2.4.0"
   ]
  },
  {
   "cell_type": "code",
   "execution_count": null,
   "metadata": {
    "colab": {},
    "colab_type": "code",
    "id": "nBr1A7MBSm6u"
   },
   "outputs": [],
   "source": [
    "# initialize melgan model\n",
    "with open('./examples/melgan/conf/melgan.v1.yaml') as f:\n",
    "    melgan_config = yaml.load(f, Loader=yaml.Loader)\n",
    "melgan_config = MelGANGeneratorConfig(**melgan_config[\"generator_params\"])\n",
    "melgan = TFMelGANGenerator(config=melgan_config, name='melgan_generator')\n",
    "melgan._build()\n",
    "melgan.load_weights(\"./examples/melgan/pretrained/generator-1500000.h5\")"
   ]
  },
  {
   "cell_type": "code",
   "execution_count": 2,
   "metadata": {
    "colab": {
     "base_uri": "https://localhost:8080/",
     "height": 397
    },
    "colab_type": "code",
    "id": "n-eiPi6Vmf47",
    "outputId": "5b04f035-befc-45f6-a87e-56f1f70fd183"
   },
   "outputs": [],
   "source": [
    "# initialize FastSpeech model.\n",
    "with open('../examples/fastspeech2/conf/fastspeech2.v1.yaml') as f:\n",
    "    config = yaml.load(f, Loader=yaml.Loader)\n",
    "config = FastSpeech2Config(**config[\"fastspeech_params\"])\n",
    "fastspeech = TFFastSpeech2(config=config, name=\"fastspeech2\",\n",
    "                          enable_tflite_convertible=True)\n",
    "\n",
    "# Newly added :\n",
    "fastspeech._build()\n",
    "fastspeech.load_weights(\"../examples/fastspeech2/checkpoints/model-150000.h5\")"
   ]
  },
  {
   "cell_type": "code",
   "execution_count": null,
   "metadata": {},
   "outputs": [],
   "source": []
  },
  {
   "cell_type": "code",
   "execution_count": null,
   "metadata": {
    "colab": {},
    "colab_type": "code",
    "id": "7cPCQoxam3vp"
   },
   "outputs": [],
   "source": [
    "input_text = \"Recent research at Harvard has shown meditating\\\n",
    "for as little as 8 weeks, can actually increase the grey matter in the \\\n",
    "parts of the brain responsible for emotional regulation, and learning.\"\n",
    "\n",
    "processor = LJSpeechProcessor(None, \"english_cleaners\")\n",
    "input_ids = processor.text_to_sequence(input_text.lower())\n",
    "input_ids = np.concatenate([input_ids, [len(symbols) - 1]], -1)  # eos.\n",
    "\n",
    "mel_before, mel_after, duration_outputs, _, _ = fastspeech.inference(\n",
    "    input_ids=tf.expand_dims(tf.convert_to_tensor(input_ids, dtype=tf.int32), 0),\n",
    "    attention_mask=tf.math.not_equal(tf.expand_dims(tf.convert_to_tensor(input_ids, dtype=tf.int32), 0), 0),\n",
    "    speaker_ids=tf.convert_to_tensor([0], dtype=tf.int32),\n",
    "    speed_ratios=tf.convert_to_tensor([1.0], dtype=tf.float32),\n",
    "    f0_ratios=tf.convert_to_tensor([1.0], dtype=tf.float32),\n",
    "    energy_ratios=tf.convert_to_tensor([1.0], dtype=tf.float32),\n",
    ")\n",
    "\n",
    "# audio_before = melgan(mel_before)[0, :, 0]\n",
    "# audio_after = melgan(mel_after)[0, :, 0]"
   ]
  },
  {
   "cell_type": "code",
   "execution_count": null,
   "metadata": {
    "colab": {
     "base_uri": "https://localhost:8080/",
     "height": 75
    },
    "colab_type": "code",
    "id": "SxVxtZI5sDF-",
    "outputId": "d949c244-c971-4b6d-ddb0-fdb444230f8a"
   },
   "outputs": [],
   "source": [
    "# Audio(data=audio_before, rate=22050)"
   ]
  },
  {
   "cell_type": "code",
   "execution_count": null,
   "metadata": {
    "colab": {
     "base_uri": "https://localhost:8080/",
     "height": 75
    },
    "colab_type": "code",
    "id": "i5gV4y9RpLBA",
    "outputId": "3222e3fc-930e-4284-bd37-380f738e8009"
   },
   "outputs": [],
   "source": [
    "# Audio(data=audio_after, rate=22050)"
   ]
  },
  {
   "cell_type": "markdown",
   "metadata": {
    "colab_type": "text",
    "id": "38xzKgqgwbLl"
   },
   "source": [
    "# Convert to TFLite"
   ]
  },
  {
   "cell_type": "code",
   "execution_count": null,
   "metadata": {
    "colab": {},
    "colab_type": "code",
    "id": "j3eBgJr1CfqF"
   },
   "outputs": [],
   "source": [
    "# Concrete Function\n",
    "fastspeech_concrete_function = fastspeech.inference_tflite.get_concrete_function()"
   ]
  },
  {
   "cell_type": "code",
   "execution_count": null,
   "metadata": {
    "colab": {},
    "colab_type": "code",
    "id": "d9CUR0UD8O9w"
   },
   "outputs": [],
   "source": [
    "converter = tf.lite.TFLiteConverter.from_concrete_functions(\n",
    "    [fastspeech_concrete_function]\n",
    ")\n",
    "converter.optimizations = [tf.lite.Optimize.DEFAULT]\n",
    "converter.target_spec.supported_ops = [tf.lite.OpsSet.TFLITE_BUILTINS,\n",
    "                                       tf.lite.OpsSet.SELECT_TF_OPS]\n",
    "tflite_model = converter.convert()"
   ]
  },
  {
   "cell_type": "code",
   "execution_count": null,
   "metadata": {
    "colab": {
     "base_uri": "https://localhost:8080/",
     "height": 35
    },
    "colab_type": "code",
    "id": "IjLkV0wlIVq1",
    "outputId": "a385bf7d-a52d-4250-b454-168599005d27"
   },
   "outputs": [],
   "source": [
    "# Save the TF Lite model.\n",
    "with open('fastspeech_quant.tflite', 'wb') as f:\n",
    "  f.write(tflite_model)\n",
    "\n",
    "print('Model size is %f MBs.' % (len(tflite_model) / 1024 / 1024.0) )"
   ]
  },
  {
   "cell_type": "code",
   "execution_count": null,
   "metadata": {
    "colab": {
     "base_uri": "https://localhost:8080/",
     "height": 17
    },
    "colab_type": "code",
    "id": "gLoUH69hJkIK",
    "outputId": "81a6b2e6-2f81-40a5-badc-be83da9eca45"
   },
   "outputs": [],
   "source": [
    "## Download the TF Lite model\n",
    "#from google.colab import files\n",
    "#files.download('fastspeech_quant.tflite') "
   ]
  },
  {
   "cell_type": "markdown",
   "metadata": {
    "colab_type": "text",
    "id": "1WqL_NEbtL5K"
   },
   "source": [
    "# Inference from TFLite"
   ]
  },
  {
   "cell_type": "code",
   "execution_count": null,
   "metadata": {
    "colab": {},
    "colab_type": "code",
    "id": "JjNnqWlItLXi"
   },
   "outputs": [],
   "source": [
    "import numpy as np\n",
    "import tensorflow as tf\n",
    "\n",
    "# Load the TFLite model and allocate tensors.\n",
    "interpreter = tf.lite.Interpreter(model_path='fastspeech_quant.tflite')\n",
    "\n",
    "# Get input and output tensors.\n",
    "input_details = interpreter.get_input_details()\n",
    "output_details = interpreter.get_output_details()\n",
    "\n",
    "# Prepare input data.\n",
    "def prepare_input(input_ids):\n",
    "  input_ids = tf.expand_dims(tf.convert_to_tensor(input_ids, dtype=tf.int32), 0)\n",
    "  return (input_ids,\n",
    "          tf.math.not_equal(input_ids, 0),\n",
    "          tf.convert_to_tensor([0], tf.int32),\n",
    "          tf.convert_to_tensor([1.0], dtype=tf.float32))\n",
    "\n",
    "# Test the model on random input data.\n",
    "def infer(input_text):\n",
    "  for x in input_details:\n",
    "    print(x)\n",
    "  for x in output_details:\n",
    "    print(x)\n",
    "  processor = LJSpeechProcessor(None, \"english_cleaners\")\n",
    "  input_ids = processor.text_to_sequence(input_text.lower())\n",
    "  interpreter.resize_tensor_input(input_details[0]['index'], \n",
    "                                  [1, len(input_ids)])\n",
    "  interpreter.resize_tensor_input(input_details[1]['index'], \n",
    "                                  [1, len(input_ids)])\n",
    "  interpreter.resize_tensor_input(input_details[2]['index'], \n",
    "                                  [1])\n",
    "  interpreter.resize_tensor_input(input_details[3]['index'], \n",
    "                                  [1])\n",
    "  interpreter.allocate_tensors()\n",
    "  input_data = prepare_input(input_ids)\n",
    "  for i, detail in enumerate(input_details):\n",
    "    input_shape = detail['shape']\n",
    "    interpreter.set_tensor(detail['index'], input_data[i])\n",
    "\n",
    "  interpreter.invoke()\n",
    "\n",
    "  # The function `get_tensor()` returns a copy of the tensor data.\n",
    "  # Use `tensor()` in order to get a pointer to the tensor.\n",
    "  return (interpreter.get_tensor(output_details[0]['index']),\n",
    "          interpreter.get_tensor(output_details[1]['index']))"
   ]
  },
  {
   "cell_type": "code",
   "execution_count": null,
   "metadata": {
    "colab": {
     "base_uri": "https://localhost:8080/",
     "height": 158
    },
    "colab_type": "code",
    "id": "dRgCO2UfdrBe",
    "outputId": "b33735d6-a35b-4158-ba71-439a969188ff"
   },
   "outputs": [],
   "source": [
    "input_text = \"Recent research at Harvard has shown meditating\\\n",
    "for as little as 8 weeks, can actually increase the grey matter in the \\\n",
    "parts of the brain responsible for emotional regulation, and learning.\"\n",
    "\n",
    "decoder_output_tflite, mel_output_tflite = infer(input_text)\n",
    "audio_before_tflite = melgan(decoder_output_tflite)[0, :, 0]\n",
    "audio_after_tflite = melgan(mel_output_tflite)[0, :, 0]"
   ]
  },
  {
   "cell_type": "code",
   "execution_count": null,
   "metadata": {
    "colab": {
     "base_uri": "https://localhost:8080/",
     "height": 75
    },
    "colab_type": "code",
    "id": "vajrYnWAX31f",
    "outputId": "22652a45-77aa-47c7-9635-c4a931b9fae0"
   },
   "outputs": [],
   "source": [
    "Audio(data=audio_before_tflite, rate=22050)"
   ]
  },
  {
   "cell_type": "code",
   "execution_count": null,
   "metadata": {
    "colab": {
     "base_uri": "https://localhost:8080/",
     "height": 75
    },
    "colab_type": "code",
    "id": "-eJ5QGc5X_Tc",
    "outputId": "606297ea-5281-4421-b066-acf2c6a99ec4"
   },
   "outputs": [],
   "source": [
    "Audio(data=audio_after_tflite, rate=22050)"
   ]
  },
  {
   "cell_type": "code",
   "execution_count": null,
   "metadata": {
    "colab": {
     "base_uri": "https://localhost:8080/",
     "height": 158
    },
    "colab_type": "code",
    "id": "iht1FDZUd0Ig",
    "outputId": "eeedd9d0-717b-437e-8376-3cf43369bb3f"
   },
   "outputs": [],
   "source": [
    "input_text = \"I love TensorFlow Lite converted FastSpeech with quantization. \\\n",
    "The converted model file is of 28.6 Mega bytes.\"\n",
    "\n",
    "decoder_output_tflite, mel_output_tflite = infer(input_text)\n",
    "audio_before_tflite = melgan(decoder_output_tflite)[0, :, 0]\n",
    "audio_after_tflite = melgan(mel_output_tflite)[0, :, 0]"
   ]
  },
  {
   "cell_type": "code",
   "execution_count": null,
   "metadata": {
    "colab": {
     "base_uri": "https://localhost:8080/",
     "height": 75
    },
    "colab_type": "code",
    "id": "ZJVtr-D3d6rr",
    "outputId": "f52f47f4-20e6-4fbc-e803-ffea4dd1f7df"
   },
   "outputs": [],
   "source": [
    "Audio(data=audio_before_tflite, rate=22050)"
   ]
  },
  {
   "cell_type": "code",
   "execution_count": null,
   "metadata": {
    "colab": {
     "base_uri": "https://localhost:8080/",
     "height": 75
    },
    "colab_type": "code",
    "id": "mBU2Zdl1d8ZI",
    "outputId": "28f94337-3e63-4be3-cd28-e1568a87c8b9"
   },
   "outputs": [],
   "source": [
    "Audio(data=audio_after_tflite, rate=22050)"
   ]
  },
  {
   "cell_type": "code",
   "execution_count": null,
   "metadata": {},
   "outputs": [],
   "source": []
  }
 ],
 "metadata": {
  "colab": {
   "collapsed_sections": [],
   "name": "TensorFlowTTS - FastSpeech with TFLite",
   "provenance": [],
   "toc_visible": true
  },
  "kernelspec": {
   "display_name": "Python 3",
   "language": "python",
   "name": "python3"
  },
  "language_info": {
   "codemirror_mode": {
    "name": "ipython",
    "version": 3
   },
   "file_extension": ".py",
   "mimetype": "text/x-python",
   "name": "python",
   "nbconvert_exporter": "python",
   "pygments_lexer": "ipython3",
   "version": "3.7.6"
  }
 },
 "nbformat": 4,
 "nbformat_minor": 1
}
